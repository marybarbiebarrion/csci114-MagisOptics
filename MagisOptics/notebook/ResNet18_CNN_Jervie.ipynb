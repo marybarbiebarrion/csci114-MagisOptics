{
 "cells": [
  {
   "cell_type": "code",
   "execution_count": 36,
   "metadata": {},
   "outputs": [
    {
     "name": "stdout",
     "output_type": "stream",
     "text": [
      "Requirement already satisfied: opencv-python in c:\\users\\jervie\\downloads\\models\\myenv\\lib\\site-packages (4.10.0.84)Note: you may need to restart the kernel to use updated packages.\n"
     ]
    },
    {
     "name": "stderr",
     "output_type": "stream",
     "text": [
      "\n",
      "[notice] A new release of pip is available: 24.0 -> 24.3.1\n",
      "[notice] To update, run: python.exe -m pip install --upgrade pip\n"
     ]
    },
    {
     "name": "stdout",
     "output_type": "stream",
     "text": [
      "\n",
      "Requirement already satisfied: numpy>=1.21.2 in c:\\users\\jervie\\downloads\\models\\myenv\\lib\\site-packages (from opencv-python) (2.1.3)\n",
      "Requirement already satisfied: matplotlib in c:\\users\\jervie\\downloads\\models\\myenv\\lib\\site-packages (3.9.2)\n",
      "Requirement already satisfied: contourpy>=1.0.1 in c:\\users\\jervie\\downloads\\models\\myenv\\lib\\site-packages (from matplotlib) (1.3.1)\n",
      "Requirement already satisfied: cycler>=0.10 in c:\\users\\jervie\\downloads\\models\\myenv\\lib\\site-packages (from matplotlib) (0.12.1)\n",
      "Requirement already satisfied: fonttools>=4.22.0 in c:\\users\\jervie\\downloads\\models\\myenv\\lib\\site-packages (from matplotlib) (4.55.0)\n",
      "Requirement already satisfied: kiwisolver>=1.3.1 in c:\\users\\jervie\\downloads\\models\\myenv\\lib\\site-packages (from matplotlib) (1.4.7)\n",
      "Requirement already satisfied: numpy>=1.23 in c:\\users\\jervie\\downloads\\models\\myenv\\lib\\site-packages (from matplotlib) (2.1.3)\n",
      "Requirement already satisfied: packaging>=20.0 in c:\\users\\jervie\\downloads\\models\\myenv\\lib\\site-packages (from matplotlib) (24.2)\n",
      "Requirement already satisfied: pillow>=8 in c:\\users\\jervie\\downloads\\models\\myenv\\lib\\site-packages (from matplotlib) (11.0.0)\n",
      "Requirement already satisfied: pyparsing>=2.3.1 in c:\\users\\jervie\\downloads\\models\\myenv\\lib\\site-packages (from matplotlib) (3.2.0)\n",
      "Requirement already satisfied: python-dateutil>=2.7 in c:\\users\\jervie\\downloads\\models\\myenv\\lib\\site-packages (from matplotlib) (2.9.0.post0)\n",
      "Requirement already satisfied: six>=1.5 in c:\\users\\jervie\\downloads\\models\\myenv\\lib\\site-packages (from python-dateutil>=2.7->matplotlib) (1.16.0)\n",
      "Note: you may need to restart the kernel to use updated packages.\n"
     ]
    },
    {
     "name": "stderr",
     "output_type": "stream",
     "text": [
      "\n",
      "[notice] A new release of pip is available: 24.0 -> 24.3.1\n",
      "[notice] To update, run: python.exe -m pip install --upgrade pip\n"
     ]
    },
    {
     "name": "stdout",
     "output_type": "stream",
     "text": [
      "Requirement already satisfied: pandas in c:\\users\\jervie\\downloads\\models\\myenv\\lib\\site-packages (2.2.3)\n",
      "Requirement already satisfied: numpy>=1.26.0 in c:\\users\\jervie\\downloads\\models\\myenv\\lib\\site-packages (from pandas) (2.1.3)\n",
      "Requirement already satisfied: python-dateutil>=2.8.2 in c:\\users\\jervie\\downloads\\models\\myenv\\lib\\site-packages (from pandas) (2.9.0.post0)\n",
      "Requirement already satisfied: pytz>=2020.1 in c:\\users\\jervie\\downloads\\models\\myenv\\lib\\site-packages (from pandas) (2024.2)\n",
      "Requirement already satisfied: tzdata>=2022.7 in c:\\users\\jervie\\downloads\\models\\myenv\\lib\\site-packages (from pandas) (2024.2)\n",
      "Requirement already satisfied: six>=1.5 in c:\\users\\jervie\\downloads\\models\\myenv\\lib\\site-packages (from python-dateutil>=2.8.2->pandas) (1.16.0)\n",
      "Note: you may need to restart the kernel to use updated packages.\n"
     ]
    },
    {
     "name": "stderr",
     "output_type": "stream",
     "text": [
      "\n",
      "[notice] A new release of pip is available: 24.0 -> 24.3.1\n",
      "[notice] To update, run: python.exe -m pip install --upgrade pip\n"
     ]
    },
    {
     "name": "stdout",
     "output_type": "stream",
     "text": [
      "Requirement already satisfied: numpy in c:\\users\\jervie\\downloads\\models\\myenv\\lib\\site-packages (2.1.3)Note: you may need to restart the kernel to use updated packages.\n",
      "\n"
     ]
    },
    {
     "name": "stderr",
     "output_type": "stream",
     "text": [
      "\n",
      "[notice] A new release of pip is available: 24.0 -> 24.3.1\n",
      "[notice] To update, run: python.exe -m pip install --upgrade pip\n"
     ]
    },
    {
     "name": "stdout",
     "output_type": "stream",
     "text": [
      "Requirement already satisfied: scikit-learn in c:\\users\\jervie\\downloads\\models\\myenv\\lib\\site-packages (1.5.2)Note: you may need to restart the kernel to use updated packages.\n",
      "\n",
      "Requirement already satisfied: numpy>=1.19.5 in c:\\users\\jervie\\downloads\\models\\myenv\\lib\\site-packages (from scikit-learn) (2.1.3)\n",
      "Requirement already satisfied: scipy>=1.6.0 in c:\\users\\jervie\\downloads\\models\\myenv\\lib\\site-packages (from scikit-learn) (1.14.1)\n",
      "Requirement already satisfied: joblib>=1.2.0 in c:\\users\\jervie\\downloads\\models\\myenv\\lib\\site-packages (from scikit-learn) (1.4.2)\n",
      "Requirement already satisfied: threadpoolctl>=3.1.0 in c:\\users\\jervie\\downloads\\models\\myenv\\lib\\site-packages (from scikit-learn) (3.5.0)\n"
     ]
    },
    {
     "name": "stderr",
     "output_type": "stream",
     "text": [
      "\n",
      "[notice] A new release of pip is available: 24.0 -> 24.3.1\n",
      "[notice] To update, run: python.exe -m pip install --upgrade pip\n"
     ]
    },
    {
     "name": "stdout",
     "output_type": "stream",
     "text": [
      "Requirement already satisfied: torch in c:\\users\\jervie\\downloads\\models\\myenv\\lib\\site-packages (2.5.1)\n",
      "Requirement already satisfied: torchvision in c:\\users\\jervie\\downloads\\models\\myenv\\lib\\site-packages (0.20.1)\n",
      "Requirement already satisfied: torchaudio in c:\\users\\jervie\\downloads\\models\\myenv\\lib\\site-packages (2.5.1)\n",
      "Requirement already satisfied: filelock in c:\\users\\jervie\\downloads\\models\\myenv\\lib\\site-packages (from torch) (3.16.1)\n",
      "Requirement already satisfied: typing-extensions>=4.8.0 in c:\\users\\jervie\\downloads\\models\\myenv\\lib\\site-packages (from torch) (4.12.2)\n",
      "Requirement already satisfied: networkx in c:\\users\\jervie\\downloads\\models\\myenv\\lib\\site-packages (from torch) (3.4.2)\n",
      "Requirement already satisfied: jinja2 in c:\\users\\jervie\\downloads\\models\\myenv\\lib\\site-packages (from torch) (3.1.4)\n",
      "Requirement already satisfied: fsspec in c:\\users\\jervie\\downloads\\models\\myenv\\lib\\site-packages (from torch) (2024.10.0)\n",
      "Requirement already satisfied: setuptools in c:\\users\\jervie\\downloads\\models\\myenv\\lib\\site-packages (from torch) (75.6.0)\n",
      "Requirement already satisfied: sympy==1.13.1 in c:\\users\\jervie\\downloads\\models\\myenv\\lib\\site-packages (from torch) (1.13.1)\n",
      "Requirement already satisfied: mpmath<1.4,>=1.1.0 in c:\\users\\jervie\\downloads\\models\\myenv\\lib\\site-packages (from sympy==1.13.1->torch) (1.3.0)\n",
      "Requirement already satisfied: numpy in c:\\users\\jervie\\downloads\\models\\myenv\\lib\\site-packages (from torchvision) (2.1.3)\n",
      "Requirement already satisfied: pillow!=8.3.*,>=5.3.0 in c:\\users\\jervie\\downloads\\models\\myenv\\lib\\site-packages (from torchvision) (11.0.0)\n",
      "Requirement already satisfied: MarkupSafe>=2.0 in c:\\users\\jervie\\downloads\\models\\myenv\\lib\\site-packages (from jinja2->torch) (3.0.2)\n",
      "Note: you may need to restart the kernel to use updated packages.\n"
     ]
    },
    {
     "name": "stderr",
     "output_type": "stream",
     "text": [
      "\n",
      "[notice] A new release of pip is available: 24.0 -> 24.3.1\n",
      "[notice] To update, run: python.exe -m pip install --upgrade pip\n"
     ]
    },
    {
     "name": "stdout",
     "output_type": "stream",
     "text": [
      "Requirement already satisfied: joblib in c:\\users\\jervie\\downloads\\models\\myenv\\lib\\site-packages (1.4.2)Note: you may need to restart the kernel to use updated packages.\n",
      "\n"
     ]
    },
    {
     "name": "stderr",
     "output_type": "stream",
     "text": [
      "\n",
      "[notice] A new release of pip is available: 24.0 -> 24.3.1\n",
      "[notice] To update, run: python.exe -m pip install --upgrade pip\n"
     ]
    },
    {
     "name": "stdout",
     "output_type": "stream",
     "text": [
      "Requirement already satisfied: pillow in c:\\users\\jervie\\downloads\\models\\myenv\\lib\\site-packages (11.0.0)Note: you may need to restart the kernel to use updated packages.\n",
      "\n"
     ]
    },
    {
     "name": "stderr",
     "output_type": "stream",
     "text": [
      "\n",
      "[notice] A new release of pip is available: 24.0 -> 24.3.1\n",
      "[notice] To update, run: python.exe -m pip install --upgrade pip\n"
     ]
    }
   ],
   "source": [
    "%pip install opencv-python\n",
    "%pip install matplotlib\n",
    "%pip install pandas\n",
    "%pip install numpy\n",
    "%pip install scikit-learn\n",
    "%pip install torch torchvision torchaudio\n",
    "%pip install joblib\n",
    "%pip install pillow"
   ]
  },
  {
   "cell_type": "markdown",
   "metadata": {
    "id": "pV3tzTj5_Pa4"
   },
   "source": [
    "# Load the Dataset using a Pytorch Data Loader"
   ]
  },
  {
   "cell_type": "code",
   "execution_count": 27,
   "metadata": {},
   "outputs": [],
   "source": [
    "import torch\n",
    "from torch import nn\n",
    "from torch.utils.data import DataLoader\n",
    "from torchvision import datasets, transforms, models\n",
    "import matplotlib.pyplot as plt\n",
    "from sklearn.metrics import classification_report\n",
    "from sklearn.utils.class_weight import compute_class_weight\n",
    "import numpy as np\n",
    "from torchvision.models import ResNet18_Weights\n",
    "import joblib"
   ]
  },
  {
   "cell_type": "code",
   "execution_count": 29,
   "metadata": {},
   "outputs": [],
   "source": [
    "BATCH_SIZE = 32\n",
    "EPOCHS = 60\n",
    "LEARNING_RATE = 1e-3\n",
    "NUM_CLASSES = 5\n",
    "IMAGE_SIZE = (256, 256)\n",
    "\n",
    "\n",
    "def load_data(train_dir, test_dir, batch_size, img_size):\n",
    "    transform = transforms.Compose([\n",
    "        transforms.Resize(img_size),\n",
    "        transforms.RandomHorizontalFlip(),\n",
    "        transforms.RandomRotation(10),\n",
    "        transforms.RandomResizedCrop(img_size, scale=(0.8, 1.0)),\n",
    "        transforms.ColorJitter(brightness=0.2, contrast=0.2, saturation=0.2),\n",
    "        transforms.RandomGrayscale(p=0.1),\n",
    "        transforms.ToTensor(),\n",
    "        transforms.Normalize(mean=[0.485, 0.456, 0.406], std=[0.229, 0.224, 0.225])  # Normalize\n",
    "    ])\n",
    "\n",
    "    train_dataset = datasets.ImageFolder(train_dir, transform=transform)\n",
    "    test_dataset = datasets.ImageFolder(test_dir, transform=transform)\n",
    "\n",
    "    train_loader = DataLoader(train_dataset, batch_size=batch_size, shuffle=True)\n",
    "    test_loader = DataLoader(test_dataset, batch_size=batch_size, shuffle=False)\n",
    "\n",
    "    return train_loader, test_loader, train_dataset.classes\n",
    "\n",
    "train_dir = './images/Trains'\n",
    "test_dir = './images/Tests'\n",
    "\n",
    "# Load data\n",
    "train_loader, test_loader, class_names = load_data(train_dir, test_dir, BATCH_SIZE, IMAGE_SIZE)\n",
    "\n",
    "targets = [label for _, label in datasets.ImageFolder(train_dir).imgs]\n",
    "class_weights = compute_class_weight('balanced', classes=np.unique(targets), y=targets)\n",
    "class_weights = torch.tensor(class_weights, dtype=torch.float).to(torch.device(\"cuda\" if torch.cuda.is_available() else \"cpu\"))"
   ]
  },
  {
   "cell_type": "markdown",
   "metadata": {
    "id": "a7ipF67y_Pa6"
   },
   "source": [
    "# Defining the Model"
   ]
  },
  {
   "cell_type": "code",
   "execution_count": 30,
   "metadata": {},
   "outputs": [],
   "source": [
    "class ResNet18CNN(nn.Module):\n",
    "    def __init__(self, num_classes):\n",
    "        super(ResNet18CNN, self).__init__()\n",
    "        self.model = models.resnet18(weights=ResNet18_Weights.IMAGENET1K_V1)\n",
    "        # Add dropout layer and fully connected layers\n",
    "        self.model.fc = nn.Sequential(\n",
    "            nn.Linear(self.model.fc.in_features, 512),\n",
    "            nn.ReLU(),\n",
    "            nn.Dropout(0.5),\n",
    "            nn.Linear(512, num_classes)\n",
    "        )\n",
    "\n",
    "    def forward(self, x):\n",
    "        return self.model(x)"
   ]
  },
  {
   "cell_type": "markdown",
   "metadata": {
    "id": "aH00zV_jARLq"
   },
   "source": [
    "# Training the Model"
   ]
  },
  {
   "cell_type": "code",
   "execution_count": 31,
   "metadata": {
    "id": "iq0IlS59_Pa8"
   },
   "outputs": [],
   "source": [
    "device = torch.device(\"cuda\" if torch.cuda.is_available() else \"cpu\")\n",
    "model = ResNet18CNN(num_classes=NUM_CLASSES).to(device)\n",
    "loss_fn = nn.CrossEntropyLoss(weight=class_weights)\n",
    "optimizer = torch.optim.AdamW(model.parameters(), lr=LEARNING_RATE)\n",
    "scheduler = torch.optim.lr_scheduler.StepLR(optimizer, step_size=3, gamma=0.1)"
   ]
  },
  {
   "cell_type": "code",
   "execution_count": 32,
   "metadata": {},
   "outputs": [
    {
     "name": "stdout",
     "output_type": "stream",
     "text": [
      "Epoch 1/60, Loss: 1.6062\n",
      "Epoch 2/60, Loss: 1.4271\n",
      "Epoch 3/60, Loss: 1.3664\n",
      "Epoch 4/60, Loss: 1.2650\n",
      "Epoch 5/60, Loss: 1.2081\n",
      "Epoch 6/60, Loss: 1.1773\n",
      "Epoch 7/60, Loss: 1.1489\n",
      "Epoch 8/60, Loss: 1.1399\n",
      "Epoch 9/60, Loss: 1.1533\n",
      "Epoch 10/60, Loss: 1.1406\n",
      "Epoch 11/60, Loss: 1.1511\n",
      "Epoch 12/60, Loss: 1.1383\n",
      "Epoch 13/60, Loss: 1.1403\n",
      "Epoch 14/60, Loss: 1.1482\n",
      "Epoch 15/60, Loss: 1.1479\n",
      "Epoch 16/60, Loss: 1.1469\n",
      "Epoch 17/60, Loss: 1.1377\n",
      "Epoch 18/60, Loss: 1.1537\n",
      "Epoch 19/60, Loss: 1.1540\n",
      "Epoch 20/60, Loss: 1.1155\n",
      "Epoch 21/60, Loss: 1.1376\n",
      "Epoch 22/60, Loss: 1.1425\n",
      "Epoch 23/60, Loss: 1.1428\n",
      "Epoch 24/60, Loss: 1.1304\n",
      "Epoch 25/60, Loss: 1.1424\n",
      "Epoch 26/60, Loss: 1.1537\n",
      "Epoch 27/60, Loss: 1.1647\n",
      "Epoch 28/60, Loss: 1.1301\n",
      "Epoch 29/60, Loss: 1.1469\n",
      "Epoch 30/60, Loss: 1.1669\n",
      "Epoch 31/60, Loss: 1.1313\n",
      "Epoch 32/60, Loss: 1.1396\n",
      "Epoch 33/60, Loss: 1.1423\n",
      "Epoch 34/60, Loss: 1.1532\n",
      "Epoch 35/60, Loss: 1.1490\n",
      "Epoch 36/60, Loss: 1.1476\n",
      "Epoch 37/60, Loss: 1.1435\n",
      "Epoch 38/60, Loss: 1.1390\n",
      "Epoch 39/60, Loss: 1.1658\n",
      "Epoch 40/60, Loss: 1.1494\n",
      "Epoch 41/60, Loss: 1.1481\n",
      "Epoch 42/60, Loss: 1.1493\n",
      "Epoch 43/60, Loss: 1.1436\n",
      "Epoch 44/60, Loss: 1.1491\n",
      "Epoch 45/60, Loss: 1.1407\n",
      "Epoch 46/60, Loss: 1.1503\n",
      "Epoch 47/60, Loss: 1.1520\n",
      "Epoch 48/60, Loss: 1.1280\n",
      "Epoch 49/60, Loss: 1.1566\n",
      "Epoch 50/60, Loss: 1.1471\n",
      "Epoch 51/60, Loss: 1.1464\n",
      "Epoch 52/60, Loss: 1.1587\n",
      "Epoch 53/60, Loss: 1.1488\n",
      "Epoch 54/60, Loss: 1.1278\n",
      "Epoch 55/60, Loss: 1.1617\n",
      "Epoch 56/60, Loss: 1.1442\n",
      "Epoch 57/60, Loss: 1.1341\n",
      "Epoch 58/60, Loss: 1.1516\n",
      "Epoch 59/60, Loss: 1.1529\n",
      "Epoch 60/60, Loss: 1.1704\n"
     ]
    },
    {
     "data": {
      "image/png": "[encoded data removed]",
      "text/plain": [
       "<Figure size 640x480 with 1 Axes>"
      ]
     },
     "metadata": {},
     "output_type": "display_data"
    }
   ],
   "source": [
    "def train_model(model, train_loader, optimizer, loss_fn, epochs, device):\n",
    "    model.train()\n",
    "    losses = []\n",
    "    for epoch in range(epochs):\n",
    "        epoch_loss = 0\n",
    "        for images, labels in train_loader:\n",
    "            images, labels = images.to(device), labels.to(device)\n",
    "\n",
    "            optimizer.zero_grad()\n",
    "            outputs = model(images)\n",
    "            loss = loss_fn(outputs, labels)\n",
    "            loss.backward()\n",
    "            optimizer.step()\n",
    "\n",
    "            epoch_loss += loss.item()\n",
    "        \n",
    "        avg_loss = epoch_loss / len(train_loader)\n",
    "        losses.append(avg_loss)\n",
    "        \n",
    "        print(f\"Epoch {epoch + 1}/{epochs}, Loss: {avg_loss:.4f}\")\n",
    "        scheduler.step()\n",
    "\n",
    "    # Plot loss curve\n",
    "    plt.plot(losses)\n",
    "    plt.title(\"Training Loss\")\n",
    "    plt.xlabel(\"Epoch\")\n",
    "    plt.ylabel(\"Loss\")\n",
    "    plt.show()\n",
    "\n",
    "train_model(model, train_loader, optimizer, loss_fn, EPOCHS, device)"
   ]
  },
  {
   "cell_type": "markdown",
   "metadata": {
    "id": "1o0kep-0_Pa9"
   },
   "source": [
    "# Test the Model"
   ]
  },
  {
   "cell_type": "code",
   "execution_count": 33,
   "metadata": {},
   "outputs": [
    {
     "name": "stdout",
     "output_type": "stream",
     "text": [
      "Classification Report:\n",
      "              precision    recall  f1-score   support\n",
      "\n",
      "           0       0.30      0.35      0.32        26\n",
      "           1       0.29      0.23      0.26        26\n",
      "           2       0.35      0.31      0.33        26\n",
      "           3       0.69      0.85      0.76        26\n",
      "           4       0.83      0.77      0.80        26\n",
      "\n",
      "    accuracy                           0.50       130\n",
      "   macro avg       0.49      0.50      0.49       130\n",
      "weighted avg       0.49      0.50      0.49       130\n",
      "\n"
     ]
    }
   ],
   "source": [
    "def evaluate_model(model, test_loader, device, class_names):\n",
    "    model.eval()\n",
    "    preds = []\n",
    "    targets = []\n",
    "\n",
    "    with torch.no_grad():\n",
    "        for images, labels in test_loader:\n",
    "            images, labels = images.to(device), labels.to(device)\n",
    "            outputs = model(images)\n",
    "            preds.extend(outputs.argmax(1).cpu().numpy())\n",
    "            targets.extend(labels.cpu().numpy())\n",
    "\n",
    "    print(\"Classification Report:\")\n",
    "    print(classification_report(targets, preds, target_names=class_names))\n",
    "    \n",
    "evaluate_model(model, test_loader, device, class_names)"
   ]
  },
  {
   "cell_type": "code",
   "execution_count": null,
   "metadata": {},
   "outputs": [
    {
     "name": "stdout",
     "output_type": "stream",
     "text": [
      "Predicted class: Class 4\n"
     ]
    }
   ],
   "source": [
    "import joblib\n",
    "from PIL import Image\n",
    "\n",
    "# Load the model\n",
    "model_path = './ResNet18_CNN_model.joblib'\n",
    "model = joblib.load(model_path)\n",
    "model.eval()  # Set the model to evaluation mode\n",
    "\n",
    "# Define the class names\n",
    "class_names = ['Class 0', 'Class 1', 'Class 2', 'Class 3', 'Class 4']\n",
    "\n",
    "def preprocess_image(image_path, img_size):\n",
    "    transform = transforms.Compose([\n",
    "        transforms.Resize(img_size),\n",
    "        transforms.ToTensor(),\n",
    "        transforms.Normalize(mean=[0.485, 0.456, 0.406], std=[0.229, 0.224, 0.225])  # Normalize\n",
    "    ])\n",
    "    image = Image.open(image_path)\n",
    "    image = transform(image).unsqueeze(0)  # Add batch dimension\n",
    "    return image\n",
    "\n",
    "def predict_image_class(image_path):\n",
    "    image = preprocess_image(image_path, IMAGE_SIZE)\n",
    "    with torch.no_grad():\n",
    "        image = image.to(device)\n",
    "        outputs = model(image)\n",
    "        _, predicted = torch.max(outputs, 1)\n",
    "        return class_names[predicted.item()]\n",
    "\n",
    "# Example usage\n",
    "image_path = './images/Tests/1/1020_left - Copy.jpeg'\n",
    "prediction = predict_image_class(image_path)\n",
    "print('Predicted class:', prediction)"
   ]
  },
  {
   "cell_type": "code",
   "execution_count": 42,
   "metadata": {},
   "outputs": [
    {
     "data": {
      "text/plain": [
       "['ResNet18_CNN_model.joblib']"
      ]
     },
     "execution_count": 42,
     "metadata": {},
     "output_type": "execute_result"
    }
   ],
   "source": [
    "joblib_file = 'ResNet18_CNN_model.joblib'\n",
    "joblib.dump(model, joblib_file)"
   ]
  }
 ],
 "metadata": {
  "colab": {
   "provenance": []
  },
  "kernelspec": {
   "display_name": "myenv",
   "language": "python",
   "name": "python3"
  },
  "language_info": {
   "codemirror_mode": {
    "name": "ipython",
    "version": 3
   },
   "file_extension": ".py",
   "mimetype": "text/x-python",
   "name": "python",
   "nbconvert_exporter": "python",
   "pygments_lexer": "ipython3",
   "version": "3.12.3"
  }
 },
 "nbformat": 4,
 "nbformat_minor": 0
}
